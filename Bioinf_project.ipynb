{
 "cells": [
  {
   "cell_type": "code",
   "execution_count": 14,
   "id": "a083bb4a-ff0e-4ee4-ae8b-0cc545fc09e3",
   "metadata": {},
   "outputs": [],
   "source": [
    "import random\n",
    "import json\n",
    "import matplotlib.pyplot as plt\n",
    "import matplotlib.animation as animation\n",
    "import numpy as np\n",
    "import os\n",
    "import shutil"
   ]
  },
  {
   "cell_type": "code",
   "execution_count": 16,
   "id": "5668c616-e4e5-4bba-a39d-9ba7aa3c8d61",
   "metadata": {},
   "outputs": [
    {
     "data": {
      "text/plain": [
       "dict_keys(['I', 'J', 'field', 'a', 'b', 'state', 'construct', 'time'])"
      ]
     },
     "execution_count": 16,
     "metadata": {},
     "output_type": "execute_result"
    }
   ],
   "source": [
    "with open('data4.json', 'r') as openfile:\n",
    " \n",
    "    # Reading from json file\n",
    "    json_object = json.load(openfile)\n",
    "\n",
    "json_object.keys()"
   ]
  },
  {
   "cell_type": "code",
   "execution_count": 17,
   "id": "b7c64576-04e4-4bd8-923c-37298289bb5c",
   "metadata": {},
   "outputs": [],
   "source": [
    "# Создаем цветовую карту с яркими цветами\n",
    "color_map = {\n",
    "    'A': (1.0, 0.647, 0.0),   # Оранжевый для 'A'\n",
    "    'B': (0.5, 0.0, 0.5),     # Фиолетовый для 'B'\n",
    "    '0': (1.0, 1.0, 0.0),     # Желтый для '0'\n",
    "    '1': (0.0, 0.0, 1.0)      # Синий для '1'\n",
    "}\n",
    "\n",
    "shenon_timelapse = []\n",
    "opinion_timelapse = []"
   ]
  },
  {
   "cell_type": "code",
   "execution_count": 18,
   "id": "1b13af6d-261d-4c51-83e0-0e8d81594446",
   "metadata": {},
   "outputs": [],
   "source": [
    "def field_generation(I, J, a = 0, b = 0):\n",
    "    field = []\n",
    "    for i in range (I):\n",
    "        stroka = []\n",
    "        for j in range (J):\n",
    "            number = random.randint(0, 1)\n",
    "            stroka.append(number)\n",
    "        field.append(stroka)\n",
    "    while a != 0:\n",
    "        number_x = random.randint(0, i)\n",
    "        number_y = random.randint(0, j)\n",
    "        if field[number_x][number_y] == \"A\":\n",
    "            pass\n",
    "        else:\n",
    "            field[number_x][number_y] = \"A\"\n",
    "            a = a - 1\n",
    "    while b != 0:\n",
    "        number_x = random.randint(0, i)\n",
    "        number_y = random.randint(0, j)\n",
    "        if field[number_x][number_y] == \"B\":\n",
    "            pass\n",
    "        else:\n",
    "            field[number_x][number_y] = \"B\"\n",
    "            b = b - 1 \n",
    "    return(field)"
   ]
  },
  {
   "cell_type": "code",
   "execution_count": 19,
   "id": "95d4bfbd-cb82-49b1-87bb-ec8ef489e9e2",
   "metadata": {},
   "outputs": [],
   "source": [
    "def data_from_json(json_object):\n",
    "    I = json_object.get('I')\n",
    "    J = json_object.get('J')\n",
    "    #print(json_object.keys())\n",
    "    field = json_object.get('field')\n",
    "    a = json_object.get('a')\n",
    "    b = json_object.get('b')\n",
    "    if field == 0:\n",
    "        field = field_generation(I, J, a, b)\n",
    "    state = json_object.get('state')\n",
    "    construct = json_object.get('construct')\n",
    "    time = json_object.get('time')\n",
    "    return I, J, field, state, construct, time"
   ]
  },
  {
   "cell_type": "code",
   "execution_count": 20,
   "id": "f696e515-73e8-467e-89c5-3e9871f8d5c7",
   "metadata": {},
   "outputs": [],
   "source": [
    "def count_opinions(opinions):\n",
    "    opinions_count = [0, 0]\n",
    "    for i in range (len(opinions)):\n",
    "        if (opinions[i] == 0):\n",
    "            opinions_count[0] += 1\n",
    "        else:\n",
    "            opinions_count[1] += 1\n",
    "    return opinions_count"
   ]
  },
  {
   "cell_type": "code",
   "execution_count": 21,
   "id": "d8ce1c38-cfbd-41f1-83cf-36b7ca821e4e",
   "metadata": {},
   "outputs": [],
   "source": [
    "def shenon_entropy(x):\n",
    "    elements = np.unique(x)\n",
    "    k = len(np.unique(x))\n",
    "    curr_element_number = 0\n",
    "    res = 0\n",
    "    for element in elements:\n",
    "        for i in range(len(x)):\n",
    "            if (x[i] == element):\n",
    "                curr_element_number += 1\n",
    "        res += -curr_element_number/len(x) * np.log2(curr_element_number/len(x))\n",
    "        curr_element_number = 0\n",
    "    return res"
   ]
  },
  {
   "cell_type": "code",
   "execution_count": 22,
   "id": "d59a1262-4b54-4098-9606-7b695261dcde",
   "metadata": {},
   "outputs": [],
   "source": [
    "class Agent:\n",
    "    def __init__(self, state, opinion, position):\n",
    "        self.state = state\n",
    "        self.opinion = opinion\n",
    "        self.position = position\n",
    "        self.database = []\n",
    "    def update(self):\n",
    "        self.database.append(self.opinion)\n",
    "    def opinion_decider(self, field, construct):\n",
    "        if self.state == \"psycho\":\n",
    "            self.opinion = self.opinion\n",
    "        elif self.state == \"conf\" or self.state == \"nonconf\":\n",
    "            if construct == \"PLUS\":\n",
    "                i_pos = self.position[0]\n",
    "                j_pos = self.position[1]\n",
    "                i_plus1 = (self.position[0] + 1) % I\n",
    "                i_minus1 = (self.position[0] - 1) % I\n",
    "                j_plus1 = (self.position[1] + 1) % J\n",
    "                j_minus1 = (self.position[1] - 1) % J\n",
    "                neigh_opinions = []\n",
    "                neigh_opinions.append(field[i_plus1][j_pos])\n",
    "                neigh_opinions.append(field[i_minus1][j_pos])\n",
    "                neigh_opinions.append(field[i_pos][j_plus1])\n",
    "                neigh_opinions.append(field[i_pos][j_minus1])\n",
    "                op_sum = count_opinions(neigh_opinions)\n",
    "                if (self.opinion == 0):\n",
    "                    decide_num = random.randint(0, 4)\n",
    "                    if (decide_num >= op_sum[1]):\n",
    "                        if self.state == \"conf\":\n",
    "                            self.opinion = self.opinion\n",
    "                        else:\n",
    "                            self.opinion = 1\n",
    "                    else:\n",
    "                        if self.state == \"conf\":\n",
    "                            self.opinion = 1\n",
    "                        else:\n",
    "                            self.opinion = self.opinion\n",
    "                else:\n",
    "                    decide_num = random.randint(0, 4)\n",
    "                    if (decide_num >= op_sum[0]):\n",
    "                        if self.state == \"conf\":\n",
    "                            self.opinion = self.opinion\n",
    "                        else:\n",
    "                            self.opinion = 0\n",
    "                    else:\n",
    "                        if self.state == \"conf\":\n",
    "                            self.opinion = 0\n",
    "                        else:\n",
    "                            self.opinion = self.opinion\n",
    "                            \n",
    "            elif construct == \"CIRCLE\":\n",
    "                i_pos = self.position[0]\n",
    "                j_pos = self.position[1]\n",
    "                i_plus1 = (self.position[0] + 1) % I\n",
    "                i_minus1 = (self.position[0] - 1) % I\n",
    "                j_plus1 = (self.position[1] + 1) % J\n",
    "                j_minus1 = (self.position[1] - 1) % J\n",
    "                neigh_opinions = []\n",
    "                neigh_opinions.append(field[i_plus1][j_pos])\n",
    "                neigh_opinions.append(field[i_minus1][j_pos])\n",
    "                neigh_opinions.append(field[i_pos][j_plus1])\n",
    "                neigh_opinions.append(field[i_pos][j_minus1])\n",
    "                neigh_opinions.append(field[i_plus1][j_plus1])\n",
    "                neigh_opinions.append(field[i_plus1][j_minus1])\n",
    "                neigh_opinions.append(field[i_minus1][j_plus1])\n",
    "                neigh_opinions.append(field[i_minus1][j_minus1])\n",
    "                op_sum = count_opinions(neigh_opinions)\n",
    "                #print(op_sum)\n",
    "                if (self.opinion == 0):\n",
    "                    decide_num = random.randint(0, 8)\n",
    "                    if (decide_num >= op_sum[1]):\n",
    "                        if self.state == \"conf\":\n",
    "                            self.opinion = self.opinion\n",
    "                        else:\n",
    "                            self.opinion = 1\n",
    "                    else:\n",
    "                        if self.state == \"conf\":\n",
    "                            self.opinion = 1\n",
    "                        else:\n",
    "                            self.opinion = self.opinion\n",
    "                else:\n",
    "                    decide_num = random.randint(0, 8)\n",
    "                    if (decide_num >= op_sum[0]):\n",
    "                        if self.state == \"conf\":\n",
    "                            self.opinion = self.opinion\n",
    "                        else:\n",
    "                            self.opinion = 0\n",
    "                    else:\n",
    "                        if self.state == \"conf\":\n",
    "                            self.opinion = 0\n",
    "                        else:\n",
    "                            self.opinion = self.opinion\n",
    "\n",
    "            if construct == \"GRAPH\":\n",
    "                impact_num_i = random.randint(0, I)\n",
    "                impact_num_j = random.randint(0, J)\n",
    "                if (self.position[0] == impact_num_i and self.position[1] == impact_num_j):\n",
    "                    while (self.position[0] == impact_num_i and self.position[1] == impact_num_j):\n",
    "                        num = random.randint(0,1)\n",
    "                        if num == 0:\n",
    "                            impact_num_i = random.randint(0, I)\n",
    "                        else:\n",
    "                            impact_num_j = random.randint(0, J)\n",
    "                decide_number = random.randint(0,1)\n",
    "                if (decide_number == 1):\n",
    "                    if self.state == \"conf\":\n",
    "                        self.opinion = field[impact_num_i - 1][impact_num_j - 1]\n",
    "                    else:\n",
    "                        self.opinion = self.opinion\n",
    "                else:\n",
    "                    if self.state == \"conf\":\n",
    "                        self.opinion = self.opinion\n",
    "                    else:\n",
    "                        self.opinion = field[impact_num_i - 1][impact_num_j - 1]"
   ]
  },
  {
   "cell_type": "code",
   "execution_count": 23,
   "id": "e4158631-8269-4d3b-acd9-6b4587ef87f1",
   "metadata": {},
   "outputs": [],
   "source": [
    "def agents_init(field, state):\n",
    "    agents = []\n",
    "    for i in range(I):\n",
    "        for j in range(J):\n",
    "            value = field[i][j]\n",
    "            if value == 0:\n",
    "                agent = Agent(state=state, opinion=0, position=(i, j))\n",
    "                agent.update()\n",
    "                agents.append(agent)\n",
    "            elif value == 1:\n",
    "                agent = Agent(state=state, opinion=1, position=(i, j))\n",
    "                agent.update()\n",
    "                agents.append(agent)\n",
    "            elif value == 'A':\n",
    "                agent = Agent(state='psycho', opinion=0, position=(i, j))\n",
    "                agent.update()\n",
    "                agents.append(agent)\n",
    "            elif value == 'B':\n",
    "                agent = Agent(state='psycho', opinion=1, position=(i, j))\n",
    "                agent.update()\n",
    "                agents.append(agent)\n",
    "    return agents"
   ]
  },
  {
   "cell_type": "code",
   "execution_count": 24,
   "id": "6ae6d1ef-d4d3-45ff-a17e-5bc333f17df6",
   "metadata": {},
   "outputs": [],
   "source": [
    "def field_from_agents(agents, psycho = False):\n",
    "    old_field = []\n",
    "    old_field_line = []\n",
    "    j = 0\n",
    "    for agent in agents:\n",
    "        j += 1\n",
    "        old_field_line.append(agent.opinion)\n",
    "        if j == J:\n",
    "            old_field.append(old_field_line)\n",
    "            old_field_line = []\n",
    "            j = 0\n",
    "    if psycho == True:\n",
    "        for agent in agents:\n",
    "            if agent.state == \"psycho\":\n",
    "                x = agent.position[0]\n",
    "                y = agent.position[1]\n",
    "                if (agent.opinion == 0):\n",
    "                    old_field[x][y] = \"A\"\n",
    "                else:\n",
    "                    old_field[x][y] = \"B\"\n",
    "    return old_field"
   ]
  },
  {
   "cell_type": "code",
   "execution_count": 25,
   "id": "c93fac23-7497-4d41-a3e2-7cb28102d62c",
   "metadata": {},
   "outputs": [],
   "source": [
    "def opinion_presentage(agents):\n",
    "    tmp_len = I * J\n",
    "    amount = 0\n",
    "    for agent in agents:\n",
    "        if agent.opinion == 0:\n",
    "            amount += 1\n",
    "    return (amount/tmp_len)"
   ]
  },
  {
   "cell_type": "code",
   "execution_count": 52,
   "id": "02ec2f49-8e7a-4a84-85ae-1ca1e950f3df",
   "metadata": {},
   "outputs": [],
   "source": [
    "def show_map(agents, frames):\n",
    "    array_data = np.array(field_from_agents(agents, psycho = True))\n",
    "    colored_array = np.zeros((array_data.shape[0], array_data.shape[1], 3))\n",
    "\n",
    "    for i in range(array_data.shape[0]):\n",
    "        for j in range(array_data.shape[1]):\n",
    "            value = array_data[i][j]\n",
    "            if value == 'A':\n",
    "                colored_array[i][j] = color_map['A']\n",
    "            elif value == 'B':\n",
    "                colored_array[i][j] = color_map['B']\n",
    "            elif str(value) == '0':\n",
    "                colored_array[i][j] = color_map['0']\n",
    "            elif str(value) == '1':\n",
    "                colored_array[i][j] = color_map['1']\n",
    "\n",
    "    #plt.imshow(colored_array)\n",
    "    #plt.axis('off') # Отключаем оси\n",
    "    #plt.show()\n",
    "\n",
    "    frames.append(colored_array)"
   ]
  },
  {
   "cell_type": "code",
   "execution_count": 53,
   "id": "c95f1cfe-4cd9-42c6-a438-ad2db8be24e5",
   "metadata": {},
   "outputs": [],
   "source": [
    "def show_shenon_map(agents, shenon_frames):\n",
    "    shenon_field = np.zeros((I, J))\n",
    "    for agent in agents:\n",
    "        i, j = agent.position\n",
    "        shenon_field[i][j] = shenon_entropy(agent.database)\n",
    "    \n",
    "    cmap = plt.get_cmap('viridis')\n",
    "    colored_shenon_field = cmap(shenon_field)\n",
    "\n",
    "    shenon_frames.append(colored_shenon_field)"
   ]
  },
  {
   "cell_type": "code",
   "execution_count": 54,
   "id": "054aec0a-23c8-40d9-b2a0-bdf0b826d498",
   "metadata": {},
   "outputs": [],
   "source": [
    "def agents_field_iteration(agents, construct, visualisation = True):\n",
    "    old_field = field_from_agents(agents)\n",
    "    for agent in agents:\n",
    "        agent.opinion_decider(old_field, construct)\n",
    "        agent.update()\n",
    "    return(agents)"
   ]
  },
  {
   "cell_type": "code",
   "execution_count": 55,
   "id": "a21ee183-9324-4e96-a0c9-04da6a32204c",
   "metadata": {},
   "outputs": [],
   "source": [
    "def delete_everything_in_folder(folder_path):\n",
    "    if not os.path.exists(folder_path):\n",
    "        print(f\"Папка {folder_path} не существует.\")\n",
    "        return\n",
    "\n",
    "    if os.listdir(folder_path):\n",
    "        print(f\"Папка {folder_path} не пуста. Удаляем содержимое.\")\n",
    "        shutil.rmtree(folder_path)\n",
    "        os.mkdir(folder_path)\n",
    "    else:\n",
    "        print(f\"Папка {folder_path} уже пуста. Ничего не удалено.\")"
   ]
  },
  {
   "cell_type": "code",
   "execution_count": 56,
   "id": "12b9f3b4-5c8d-472a-9e13-d54c080a81e2",
   "metadata": {},
   "outputs": [],
   "source": [
    "def population_opinion_timelapse(time, agents, construct):\n",
    "    frames = []\n",
    "    shenon_frames = []\n",
    "    \n",
    "    show_map(agents, frames)\n",
    "    show_shenon_map(agents, shenon_frames)\n",
    "    \n",
    "    opinion_presentage_array = []\n",
    "    opinion_presentage_array.append(opinion_presentage(agents))\n",
    "    opinion_timelapse.append(field_from_agents(agents, psycho = True))\n",
    "    \n",
    "    for i in range(time):\n",
    "        shenon_base = []\n",
    "        new_agents = agents_field_iteration(agents, construct)\n",
    "        database_for_update = []\n",
    "        for agent in agents:\n",
    "            database_for_update.append(agent.database)\n",
    "        for agent in new_agents:\n",
    "            agent.database = database_for_update.pop(0)\n",
    "        agents = new_agents\n",
    "        \n",
    "        show_map(agents, frames)\n",
    "        show_shenon_map(agents, shenon_frames)\n",
    "        \n",
    "        opinion_presentage_array.append(opinion_presentage(agents))\n",
    "        opinion_timelapse.append(field_from_agents(agents, psycho = True))\n",
    "        #for agent in agents:\n",
    "        #    shenon_base.append(shenon_entropy(agent.database))\n",
    "        #shenon_timelapse.append(shenon_base)\n",
    "\n",
    "    time_tmp = list(range(0, time + 1))\n",
    "    plt.figure(figsize=(10, 5))\n",
    "    plt.plot(time_tmp, opinion_presentage_array, label='Процент мнения А', color='blue')  \n",
    "    plt.title('График значений от времени')\n",
    "    plt.xlabel('Время')  # Подпись оси X\n",
    "    plt.ylabel('Значения')  # Подпись оси Y\n",
    "    plt.ylim(0, 1)  # Ограничение по оси Y от 0 до 1\n",
    "    plt.grid()\n",
    "    plt.legend()\n",
    "    #plt.show()\n",
    "    plt.savefig('results/opinion_presentage.png')\n",
    "\n",
    "    fig, ax = plt.subplots()\n",
    "    ims = []\n",
    "    for frame in frames:\n",
    "        im = ax.imshow(frame, animated=True)\n",
    "        ims.append([im])\n",
    "\n",
    "    ani = animation.ArtistAnimation(fig, ims, interval=100, blit=True, repeat_delay=1000)\n",
    "    ani.save('results/opinion.gif', writer='ffmpeg')\n",
    "\n",
    "    fig2, ax2 = plt.subplots()\n",
    "    ims2 = []\n",
    "    for shenon_frame in shenon_frames:\n",
    "        im2 = ax2.imshow(shenon_frame, animated=True)\n",
    "        ims2.append([im2])\n",
    "\n",
    "    ani2 = animation.ArtistAnimation(fig2, ims2, interval=100, blit=True, repeat_delay=1000)\n",
    "    ani2.save('results/shenon.gif', writer='ffmpeg')\n",
    "    \n",
    "    return agents"
   ]
  },
  {
   "cell_type": "code",
   "execution_count": 57,
   "id": "19862c6f-d6f9-40bc-b681-a5f8fb98fab2",
   "metadata": {},
   "outputs": [
    {
     "name": "stdout",
     "output_type": "stream",
     "text": [
      "Папка bioinf_game/results не существует.\n",
      "20 20 [[1, 1, 0, 1, 0, 1, 0, 0, 1, 1, 0, 1, 1, 1, 1, 1, 1, 0, 0, 0], [0, 0, 1, 1, 1, 0, 1, 0, 0, 1, 1, 1, 1, 0, 0, 1, 0, 1, 1, 1], [0, 0, 0, 0, 1, 1, 0, 0, 0, 1, 1, 0, 0, 0, 1, 0, 1, 0, 0, 0], [1, 1, 0, 0, 1, 1, 0, 1, 0, 0, 1, 0, 0, 1, 1, 0, 0, 1, 0, 0], [0, 1, 0, 1, 0, 0, 1, 1, 1, 1, 0, 1, 1, 0, 1, 1, 1, 1, 0, 0], [1, 1, 1, 1, 1, 1, 0, 1, 0, 1, 0, 1, 0, 0, 1, 1, 1, 1, 0, 1], [0, 1, 0, 0, 1, 0, 1, 1, 0, 0, 0, 1, 1, 0, 0, 0, 1, 0, 0, 1], [0, 0, 0, 0, 0, 1, 1, 1, 0, 0, 0, 1, 0, 1, 0, 0, 0, 0, 0, 0], [1, 1, 0, 0, 1, 0, 1, 0, 0, 1, 0, 1, 0, 1, 0, 0, 0, 0, 1, 1], [1, 0, 0, 1, 0, 0, 0, 0, 0, 0, 1, 1, 0, 1, 1, 1, 0, 1, 0, 1], [0, 0, 0, 0, 1, 1, 1, 1, 0, 1, 1, 0, 1, 0, 0, 1, 1, 1, 1, 0], [0, 0, 1, 1, 0, 1, 1, 1, 0, 1, 1, 0, 1, 0, 1, 0, 0, 1, 0, 1], [1, 1, 1, 0, 0, 0, 0, 0, 0, 0, 0, 0, 0, 0, 0, 0, 1, 0, 0, 0], [1, 1, 0, 0, 1, 0, 1, 1, 0, 1, 0, 1, 0, 0, 0, 1, 0, 0, 0, 1], [1, 1, 1, 0, 0, 0, 0, 1, 1, 1, 1, 0, 0, 1, 1, 0, 1, 0, 0, 0], [1, 0, 1, 0, 1, 1, 0, 0, 1, 0, 0, 1, 0, 0, 0, 0, 1, 0, 0, 1], [1, 1, 1, 1, 1, 1, 0, 1, 0, 0, 0, 1, 1, 0, 1, 1, 0, 1, 0, 0], [0, 0, 1, 1, 1, 0, 0, 0, 0, 1, 1, 1, 0, 0, 1, 1, 0, 1, 0, 0], [0, 1, 0, 1, 0, 0, 0, 0, 1, 1, 1, 0, 0, 0, 1, 1, 0, 0, 0, 1], [1, 1, 1, 1, 1, 0, 1, 0, 1, 0, 1, 1, 0, 1, 0, 1, 1, 1, 0, 1]] conf PLUS 100\n"
     ]
    }
   ],
   "source": [
    "delete_everything_in_folder('bioinf_game/results')\n",
    "random.seed = 42\n",
    "I, J, field, state, construct, time = data_from_json(json_object)\n",
    "print(I, J, field, state, construct, time)"
   ]
  },
  {
   "cell_type": "code",
   "execution_count": 58,
   "id": "e203b1d5-4811-4040-8d77-4502f9235ec9",
   "metadata": {},
   "outputs": [
    {
     "name": "stderr",
     "output_type": "stream",
     "text": [
      "MovieWriter ffmpeg unavailable; using Pillow instead.\n",
      "MovieWriter ffmpeg unavailable; using Pillow instead.\n"
     ]
    },
    {
     "data": {
      "image/png": "[encoded data removed]",
      "text/plain": [
       "<Figure size 1000x500 with 1 Axes>"
      ]
     },
     "metadata": {},
     "output_type": "display_data"
    },
    {
     "data": {
      "image/png": "[encoded data removed]",
      "text/plain": [
       "<Figure size 640x480 with 1 Axes>"
      ]
     },
     "metadata": {},
     "output_type": "display_data"
    },
    {
     "data": {
      "image/png": "[encoded data removed]",
      "text/plain": [
       "<Figure size 640x480 with 1 Axes>"
      ]
     },
     "metadata": {},
     "output_type": "display_data"
    }
   ],
   "source": [
    "agents = agents_init(field, state)\n",
    "res = population_opinion_timelapse(time, agents, construct)\n",
    "#print(field_from_agents(res, psycho = True))"
   ]
  },
  {
   "cell_type": "code",
   "execution_count": null,
   "id": "454907f4-1786-4d3f-bc6f-9955cba7ddcb",
   "metadata": {},
   "outputs": [],
   "source": []
  }
 ],
 "metadata": {
  "kernelspec": {
   "display_name": "Python 3 (ipykernel)",
   "language": "python",
   "name": "python3"
  },
  "language_info": {
   "codemirror_mode": {
    "name": "ipython",
    "version": 3
   },
   "file_extension": ".py",
   "mimetype": "text/x-python",
   "name": "python",
   "nbconvert_exporter": "python",
   "pygments_lexer": "ipython3",
   "version": "3.12.7"
  }
 },
 "nbformat": 4,
 "nbformat_minor": 5
}
